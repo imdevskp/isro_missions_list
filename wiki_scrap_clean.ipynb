{
 "cells": [
  {
   "cell_type": "markdown",
   "metadata": {},
   "source": [
    "# Libraries"
   ]
  },
  {
   "cell_type": "code",
   "execution_count": 1,
   "metadata": {},
   "outputs": [],
   "source": [
    "# import libraries\n",
    "# ================\n",
    "\n",
    "# for date and time opeations\n",
    "from datetime import datetime\n",
    "# for file and folder operations\n",
    "import os\n",
    "# for regular expression opeations\n",
    "import re\n",
    "# for listing files in a folder\n",
    "import glob\n",
    "# for getting web contents\n",
    "import requests \n",
    "# storing and analysing data\n",
    "import pandas as pd\n",
    "# for scraping web contents\n",
    "from bs4 import BeautifulSoup\n",
    "\n",
    "import numpy as np"
   ]
  },
  {
   "cell_type": "markdown",
   "metadata": {},
   "source": [
    "# Data"
   ]
  },
  {
   "cell_type": "code",
   "execution_count": 2,
   "metadata": {},
   "outputs": [
    {
     "data": {
      "text/plain": [
       "15"
      ]
     },
     "execution_count": 2,
     "metadata": {},
     "output_type": "execute_result"
    }
   ],
   "source": [
    "# link of the wikipedia page\n",
    "link = 'https://en.wikipedia.org/wiki/List_of_Indian_satellites'\n",
    "# get all tables from the link\n",
    "all_tables = pd.read_html(link)\n",
    "# total no. of tables in the page\n",
    "len(all_tables)"
   ]
  },
  {
   "cell_type": "code",
   "execution_count": 3,
   "metadata": {},
   "outputs": [],
   "source": [
    "# first table\n",
    "# all_tables[0]"
   ]
  },
  {
   "cell_type": "code",
   "execution_count": 4,
   "metadata": {},
   "outputs": [],
   "source": [
    "# last table\n",
    "# all_tables[5]"
   ]
  },
  {
   "cell_type": "code",
   "execution_count": 5,
   "metadata": {},
   "outputs": [],
   "source": [
    "# container for all the tables\n",
    "list_of_tables = []\n",
    "\n",
    "# first 6 tables contains the data that we want\n",
    "for table_no in range(6):\n",
    "    \n",
    "    # create a temporary table\n",
    "    temp_table = all_tables[table_no]\n",
    "#     print(temp_table.shape)\n",
    "    \n",
    "    # drop mutli index\n",
    "    temp_table.columns = temp_table.columns.droplevel(0)\n",
    "    temp_table.columns = temp_table.columns.droplevel(0)\n",
    "#     print(temp_table.shape)\n",
    "    \n",
    "    # create a columns from previous rows\n",
    "    for i in range(len(temp_table)):\n",
    "        temp_table.loc[i+1, 'COSPAR ID'] = temp_table.loc[i, 'SatCat #']\n",
    "        temp_table.loc[i+1, 'Launch Mass'] = temp_table.loc[i, 'Dry Mass']\n",
    "        temp_table.loc[i+1, 'Note'] = temp_table.loc[i, 'Periapsis']\n",
    "\n",
    "    # drop rows with even no. index (0, 2, 4 ...) (repeated columns)\n",
    "    temp_table = temp_table.drop([i for i in range(len(temp_table)) if i%2==0])\n",
    "\n",
    "    # replace wikipedia link no.s\n",
    "    temp_table = temp_table.replace({'\\[\\d+\\]' : ''}, regex=True)    \n",
    "    \n",
    "    # append temporary table to list_of_tables\n",
    "    list_of_tables.append(temp_table)\n",
    "    \n",
    "#     print(temp_table.columns)\n",
    "#     print('\\n', '='*20, '\\n')"
   ]
  },
  {
   "cell_type": "code",
   "execution_count": 6,
   "metadata": {},
   "outputs": [],
   "source": [
    "# concatenate all the tables to form the full table\n",
    "full_table = pd.concat(list_of_tables).reset_index(drop=True)"
   ]
  },
  {
   "cell_type": "code",
   "execution_count": 7,
   "metadata": {},
   "outputs": [],
   "source": [
    "# first few rows\n",
    "# full_table.head()"
   ]
  },
  {
   "cell_type": "code",
   "execution_count": 8,
   "metadata": {},
   "outputs": [],
   "source": [
    "# names of columns\n",
    "# full_table.columns"
   ]
  },
  {
   "cell_type": "code",
   "execution_count": 9,
   "metadata": {},
   "outputs": [
    {
     "name": "stdout",
     "output_type": "stream",
     "text": [
      "<class 'pandas.core.frame.DataFrame'>\n",
      "RangeIndex: 122 entries, 0 to 121\n",
      "Data columns (total 22 columns):\n",
      " #   Column             Non-Null Count  Dtype \n",
      "---  ------             --------------  ----- \n",
      " 0   #                  122 non-null    object\n",
      " 1   Name               122 non-null    object\n",
      " 2   Discipline         122 non-null    object\n",
      " 3   SatCat #           121 non-null    object\n",
      " 4   Dry Mass           110 non-null    object\n",
      " 5   On-board Power     117 non-null    object\n",
      " 6   Launch Date        122 non-null    object\n",
      " 7   Launch Vehicle     122 non-null    object\n",
      " 8   Launch Site        122 non-null    object\n",
      " 9   Periapsis          118 non-null    object\n",
      " 10  Apoapsis           119 non-null    object\n",
      " 11  Semi-Major Axis    117 non-null    object\n",
      " 12  Period             119 non-null    object\n",
      " 13  Inclination        119 non-null    object\n",
      " 14  Longitude‡         120 non-null    object\n",
      " 15  Eccentricity       112 non-null    object\n",
      " 16  Epoch Start        120 non-null    object\n",
      " 17  Decay Date         120 non-null    object\n",
      " 18  Refs(ISRO portal)  121 non-null    object\n",
      " 19  COSPAR ID          122 non-null    object\n",
      " 20  Launch Mass        121 non-null    object\n",
      " 21  Note               121 non-null    object\n",
      "dtypes: object(22)\n",
      "memory usage: 21.1+ KB\n"
     ]
    }
   ],
   "source": [
    "full_table.info()"
   ]
  },
  {
   "cell_type": "markdown",
   "metadata": {},
   "source": [
    "# Preprocessing"
   ]
  },
  {
   "cell_type": "code",
   "execution_count": 10,
   "metadata": {},
   "outputs": [],
   "source": [
    "full_table = full_table.replace('Not Applicable', np.nan)\n",
    "full_table = full_table.replace('Not applicable', np.nan)\n",
    "full_table = full_table.replace('–', np.nan)"
   ]
  },
  {
   "cell_type": "code",
   "execution_count": 11,
   "metadata": {},
   "outputs": [],
   "source": [
    "full_table = full_table.drop('Refs(ISRO portal)', axis = 1)"
   ]
  },
  {
   "cell_type": "code",
   "execution_count": 12,
   "metadata": {},
   "outputs": [
    {
     "data": {
      "text/html": [
       "<div>\n",
       "<style scoped>\n",
       "    .dataframe tbody tr th:only-of-type {\n",
       "        vertical-align: middle;\n",
       "    }\n",
       "\n",
       "    .dataframe tbody tr th {\n",
       "        vertical-align: top;\n",
       "    }\n",
       "\n",
       "    .dataframe thead th {\n",
       "        text-align: right;\n",
       "    }\n",
       "</style>\n",
       "<table border=\"1\" class=\"dataframe\">\n",
       "  <thead>\n",
       "    <tr style=\"text-align: right;\">\n",
       "      <th></th>\n",
       "      <th>#</th>\n",
       "      <th>Name</th>\n",
       "      <th>Discipline</th>\n",
       "      <th>COSPAR ID</th>\n",
       "      <th>SatCat #</th>\n",
       "      <th>Launch Mass</th>\n",
       "      <th>Dry Mass</th>\n",
       "      <th>On-board Power</th>\n",
       "      <th>Launch Date</th>\n",
       "      <th>Launch Vehicle</th>\n",
       "      <th>...</th>\n",
       "      <th>Periapsis</th>\n",
       "      <th>Apoapsis</th>\n",
       "      <th>Semi-Major Axis</th>\n",
       "      <th>Period</th>\n",
       "      <th>Inclination</th>\n",
       "      <th>Longitude</th>\n",
       "      <th>Eccentricity</th>\n",
       "      <th>Epoch Start</th>\n",
       "      <th>Decay Date</th>\n",
       "      <th>Note</th>\n",
       "    </tr>\n",
       "  </thead>\n",
       "  <tbody>\n",
       "    <tr>\n",
       "      <th>0</th>\n",
       "      <td>1</td>\n",
       "      <td>Aryabhatta</td>\n",
       "      <td>Earth Sciences Space Physics</td>\n",
       "      <td>1975-033A</td>\n",
       "      <td>07752</td>\n",
       "      <td>360 kg (790 lb)</td>\n",
       "      <td>NaN</td>\n",
       "      <td>46 W</td>\n",
       "      <td>19 April 1975, 13:10:00 IST</td>\n",
       "      <td>Interkosmos-II</td>\n",
       "      <td>...</td>\n",
       "      <td>568 km (353 mi)</td>\n",
       "      <td>611 km (380 mi)</td>\n",
       "      <td>NaN</td>\n",
       "      <td>96.5 mins</td>\n",
       "      <td>50.7°</td>\n",
       "      <td>NaN</td>\n",
       "      <td>0.00308</td>\n",
       "      <td>19 April 1975, 01:30:00 IST</td>\n",
       "      <td>11 February 1992</td>\n",
       "      <td>Active technological experience in building an...</td>\n",
       "    </tr>\n",
       "    <tr>\n",
       "      <th>1</th>\n",
       "      <td>2</td>\n",
       "      <td>Bhaskara Sega-I</td>\n",
       "      <td>Astronomy Communications Engineering Earth Sci...</td>\n",
       "      <td>1979-051A</td>\n",
       "      <td>11392</td>\n",
       "      <td>444 kg (979 lb)</td>\n",
       "      <td>NaN</td>\n",
       "      <td>47 W</td>\n",
       "      <td>7 June 1979, 16:00:00 IST</td>\n",
       "      <td>Modified SS-5 (SKean IRBM) plus Upper Stage</td>\n",
       "      <td>...</td>\n",
       "      <td>512 km (318 mi)</td>\n",
       "      <td>557 km (346 mi)</td>\n",
       "      <td>NaN</td>\n",
       "      <td>95.2 mins</td>\n",
       "      <td>50.7°</td>\n",
       "      <td>NaN</td>\n",
       "      <td>0.00325</td>\n",
       "      <td>7 June 1979, 01:30:00 IST</td>\n",
       "      <td>17 February 1989</td>\n",
       "      <td>First experimental remote sensing satellite. C...</td>\n",
       "    </tr>\n",
       "    <tr>\n",
       "      <th>2</th>\n",
       "      <td>3</td>\n",
       "      <td>Rohini Technology Payload</td>\n",
       "      <td>Experimental</td>\n",
       "      <td>NaN</td>\n",
       "      <td>NaN</td>\n",
       "      <td>35 kg (77 lb)</td>\n",
       "      <td>NaN</td>\n",
       "      <td>3 W</td>\n",
       "      <td>10 August 1979</td>\n",
       "      <td>SLV-3-E1</td>\n",
       "      <td>...</td>\n",
       "      <td>NaN</td>\n",
       "      <td>NaN</td>\n",
       "      <td>NaN</td>\n",
       "      <td>NaN</td>\n",
       "      <td>NaN</td>\n",
       "      <td>NaN</td>\n",
       "      <td>NaN</td>\n",
       "      <td>NaN</td>\n",
       "      <td>NaN</td>\n",
       "      <td>Intended for measuring in-flight performance o...</td>\n",
       "    </tr>\n",
       "    <tr>\n",
       "      <th>3</th>\n",
       "      <td>4</td>\n",
       "      <td>Rohini RS-1 (Rohini-1B)</td>\n",
       "      <td>Earth Sciences</td>\n",
       "      <td>1980-062A</td>\n",
       "      <td>11899</td>\n",
       "      <td>35 kg (77 lb)</td>\n",
       "      <td>NaN</td>\n",
       "      <td>16 W</td>\n",
       "      <td>18 July 1980, 8:01:00 IST</td>\n",
       "      <td>SLV-3-E2</td>\n",
       "      <td>...</td>\n",
       "      <td>305 km (190 mi)</td>\n",
       "      <td>919 km (571 mi)</td>\n",
       "      <td>NaN</td>\n",
       "      <td>96.9 mins</td>\n",
       "      <td>44.7°</td>\n",
       "      <td>NaN</td>\n",
       "      <td>0.04389</td>\n",
       "      <td>18 July 1980, 1:30:00 IST</td>\n",
       "      <td>20 May 1981</td>\n",
       "      <td>Used for measuring in-flight performance of se...</td>\n",
       "    </tr>\n",
       "    <tr>\n",
       "      <th>4</th>\n",
       "      <td>5</td>\n",
       "      <td>Rohini RS-D1 (Rohini-2)</td>\n",
       "      <td>Earth Sciences</td>\n",
       "      <td>1981-051A</td>\n",
       "      <td>12491</td>\n",
       "      <td>38 kg (84 lb)</td>\n",
       "      <td>NaN</td>\n",
       "      <td>16 W</td>\n",
       "      <td>31 May 1981, 10:30:00 IST</td>\n",
       "      <td>SLV-3-D1</td>\n",
       "      <td>...</td>\n",
       "      <td>186 km (116 mi)</td>\n",
       "      <td>418 km (260 mi)</td>\n",
       "      <td>NaN</td>\n",
       "      <td>90.5 mins</td>\n",
       "      <td>46.3°</td>\n",
       "      <td>NaN</td>\n",
       "      <td>0.01735</td>\n",
       "      <td>31 May 1981, 1:30:00 IST</td>\n",
       "      <td>8 June 1981</td>\n",
       "      <td>Used for conducting some remote sensing techno...</td>\n",
       "    </tr>\n",
       "  </tbody>\n",
       "</table>\n",
       "<p>5 rows × 21 columns</p>\n",
       "</div>"
      ],
      "text/plain": [
       "   #                       Name  \\\n",
       "0  1                 Aryabhatta   \n",
       "1  2            Bhaskara Sega-I   \n",
       "2  3  Rohini Technology Payload   \n",
       "3  4    Rohini RS-1 (Rohini-1B)   \n",
       "4  5    Rohini RS-D1 (Rohini-2)   \n",
       "\n",
       "                                          Discipline  COSPAR ID SatCat #  \\\n",
       "0                       Earth Sciences Space Physics  1975-033A    07752   \n",
       "1  Astronomy Communications Engineering Earth Sci...  1979-051A    11392   \n",
       "2                                       Experimental        NaN      NaN   \n",
       "3                                     Earth Sciences  1980-062A    11899   \n",
       "4                                     Earth Sciences  1981-051A    12491   \n",
       "\n",
       "       Launch Mass Dry Mass On-board Power                  Launch Date  \\\n",
       "0  360 kg (790 lb)      NaN           46 W  19 April 1975, 13:10:00 IST   \n",
       "1  444 kg (979 lb)      NaN           47 W    7 June 1979, 16:00:00 IST   \n",
       "2    35 kg (77 lb)      NaN            3 W               10 August 1979   \n",
       "3    35 kg (77 lb)      NaN           16 W    18 July 1980, 8:01:00 IST   \n",
       "4    38 kg (84 lb)      NaN           16 W    31 May 1981, 10:30:00 IST   \n",
       "\n",
       "                                Launch Vehicle  ...        Periapsis  \\\n",
       "0                               Interkosmos-II  ...  568 km (353 mi)   \n",
       "1  Modified SS-5 (SKean IRBM) plus Upper Stage  ...  512 km (318 mi)   \n",
       "2                                     SLV-3-E1  ...              NaN   \n",
       "3                                     SLV-3-E2  ...  305 km (190 mi)   \n",
       "4                                     SLV-3-D1  ...  186 km (116 mi)   \n",
       "\n",
       "          Apoapsis Semi-Major Axis     Period Inclination Longitude  \\\n",
       "0  611 km (380 mi)             NaN  96.5 mins       50.7°       NaN   \n",
       "1  557 km (346 mi)             NaN  95.2 mins       50.7°       NaN   \n",
       "2              NaN             NaN        NaN         NaN       NaN   \n",
       "3  919 km (571 mi)             NaN  96.9 mins       44.7°       NaN   \n",
       "4  418 km (260 mi)             NaN  90.5 mins       46.3°       NaN   \n",
       "\n",
       "  Eccentricity                  Epoch Start        Decay Date  \\\n",
       "0      0.00308  19 April 1975, 01:30:00 IST  11 February 1992   \n",
       "1      0.00325    7 June 1979, 01:30:00 IST  17 February 1989   \n",
       "2          NaN                          NaN               NaN   \n",
       "3      0.04389    18 July 1980, 1:30:00 IST       20 May 1981   \n",
       "4      0.01735     31 May 1981, 1:30:00 IST       8 June 1981   \n",
       "\n",
       "                                                Note  \n",
       "0  Active technological experience in building an...  \n",
       "1  First experimental remote sensing satellite. C...  \n",
       "2  Intended for measuring in-flight performance o...  \n",
       "3  Used for measuring in-flight performance of se...  \n",
       "4  Used for conducting some remote sensing techno...  \n",
       "\n",
       "[5 rows x 21 columns]"
      ]
     },
     "execution_count": 12,
     "metadata": {},
     "output_type": "execute_result"
    }
   ],
   "source": [
    "# rearrange columns\n",
    "full_table = full_table[['#', 'Name', 'Discipline', 'COSPAR ID', 'SatCat #', 'Launch Mass', 'Dry Mass', \n",
    "                         'On-board Power', 'Launch Date', 'Launch Vehicle', 'Launch Site', 'Periapsis', \n",
    "                         'Apoapsis', 'Semi-Major Axis', 'Period', 'Inclination', 'Longitude‡', \n",
    "                         'Eccentricity', 'Epoch Start', 'Decay Date', 'Note']]\n",
    "\n",
    "# rename columns\n",
    "full_table.columns = ['#', 'Name', 'Discipline', 'COSPAR ID', 'SatCat #', 'Launch Mass', 'Dry Mass', \n",
    "                      'On-board Power', 'Launch Date', 'Launch Vehicle', 'Launch Site', 'Periapsis', \n",
    "                      'Apoapsis', 'Semi-Major Axis', 'Period', 'Inclination', 'Longitude', \n",
    "                      'Eccentricity', 'Epoch Start', 'Decay Date', 'Note']\n",
    "\n",
    "full_table.head()"
   ]
  },
  {
   "cell_type": "code",
   "execution_count": 13,
   "metadata": {},
   "outputs": [
    {
     "name": "stdout",
     "output_type": "stream",
     "text": [
      "<class 'pandas.core.frame.DataFrame'>\n",
      "RangeIndex: 122 entries, 0 to 121\n",
      "Data columns (total 21 columns):\n",
      " #   Column           Non-Null Count  Dtype \n",
      "---  ------           --------------  ----- \n",
      " 0   #                122 non-null    object\n",
      " 1   Name             122 non-null    object\n",
      " 2   Discipline       122 non-null    object\n",
      " 3   COSPAR ID        112 non-null    object\n",
      " 4   SatCat #         110 non-null    object\n",
      " 5   Launch Mass      121 non-null    object\n",
      " 6   Dry Mass         35 non-null     object\n",
      " 7   On-board Power   82 non-null     object\n",
      " 8   Launch Date      122 non-null    object\n",
      " 9   Launch Vehicle   122 non-null    object\n",
      " 10  Launch Site      122 non-null    object\n",
      " 11  Periapsis        102 non-null    object\n",
      " 12  Apoapsis         103 non-null    object\n",
      " 13  Semi-Major Axis  90 non-null     object\n",
      " 14  Period           102 non-null    object\n",
      " 15  Inclination      103 non-null    object\n",
      " 16  Longitude        48 non-null     object\n",
      " 17  Eccentricity     28 non-null     object\n",
      " 18  Epoch Start      37 non-null     object\n",
      " 19  Decay Date       10 non-null     object\n",
      " 20  Note             121 non-null    object\n",
      "dtypes: object(21)\n",
      "memory usage: 20.1+ KB\n"
     ]
    }
   ],
   "source": [
    "full_table.info()"
   ]
  },
  {
   "cell_type": "code",
   "execution_count": 14,
   "metadata": {},
   "outputs": [],
   "source": [
    "full_table.to_csv('raw.csv', index=False)"
   ]
  },
  {
   "cell_type": "markdown",
   "metadata": {},
   "source": [
    "# Data Cleaning"
   ]
  },
  {
   "cell_type": "code",
   "execution_count": 15,
   "metadata": {},
   "outputs": [
    {
     "data": {
      "text/plain": [
       "Index(['#', 'Name', 'Discipline', 'COSPAR ID', 'SatCat #', 'Launch Mass',\n",
       "       'Dry Mass', 'On-board Power', 'Launch Date', 'Launch Vehicle',\n",
       "       'Launch Site', 'Periapsis', 'Apoapsis', 'Semi-Major Axis', 'Period',\n",
       "       'Inclination', 'Longitude', 'Eccentricity', 'Epoch Start', 'Decay Date',\n",
       "       'Note'],\n",
       "      dtype='object')"
      ]
     },
     "execution_count": 15,
     "metadata": {},
     "output_type": "execute_result"
    }
   ],
   "source": [
    "full_table.columns"
   ]
  },
  {
   "cell_type": "code",
   "execution_count": 16,
   "metadata": {},
   "outputs": [
    {
     "data": {
      "text/plain": [
       "['NameDisciplineCOSPAR IDSatCat #Launch VehicleLaunch SitePeriodInclinationLongitudeEccentricityEpoch StartDecay DateNote']"
      ]
     },
     "execution_count": 16,
     "metadata": {},
     "output_type": "execute_result"
    }
   ],
   "source": [
    "[\n",
    "# '#' \n",
    "'Name' \n",
    "'Discipline' \n",
    "'COSPAR ID' \n",
    "'SatCat #' \n",
    "# 'Launch Mass'\n",
    "# 'Dry Mass' \n",
    "# 'On-board Power' \n",
    "# 'Launch Date' \n",
    "'Launch Vehicle'\n",
    "'Launch Site' \n",
    "# 'Periapsis' \n",
    "# 'Apoapsis' \n",
    "# 'Semi-Major Axis' \n",
    "'Period'\n",
    "'Inclination' \n",
    "'Longitude' \n",
    "'Eccentricity' \n",
    "'Epoch Start' \n",
    "'Decay Date'\n",
    "'Note'\n",
    "]"
   ]
  },
  {
   "cell_type": "markdown",
   "metadata": {},
   "source": [
    "### Launch Mass"
   ]
  },
  {
   "cell_type": "code",
   "execution_count": 17,
   "metadata": {},
   "outputs": [
    {
     "data": {
      "text/plain": [
       "0    360 kg (790 lb)\n",
       "1    444 kg (979 lb)\n",
       "2      35 kg (77 lb)\n",
       "3      35 kg (77 lb)\n",
       "4      38 kg (84 lb)\n",
       "Name: Launch Mass, dtype: object"
      ]
     },
     "execution_count": 17,
     "metadata": {},
     "output_type": "execute_result"
    }
   ],
   "source": [
    "full_table['Launch Mass'][:5]"
   ]
  },
  {
   "cell_type": "code",
   "execution_count": 18,
   "metadata": {},
   "outputs": [
    {
     "data": {
      "text/plain": [
       "0    360.0\n",
       "1    444.0\n",
       "2     35.0\n",
       "3     35.0\n",
       "4     38.0\n",
       "Name: 0, dtype: float64"
      ]
     },
     "execution_count": 18,
     "metadata": {},
     "output_type": "execute_result"
    }
   ],
   "source": [
    "# launch mass in kg\n",
    "\n",
    "launch_mass_in_kg = full_table['Launch Mass'].str.extract('([0-9,.]*)')[0]\n",
    "launch_mass_in_kg = launch_mass_in_kg.str.replace(',', '')\n",
    "launch_mass_in_kg = pd.to_numeric(launch_mass_in_kg, errors='coerce')\n",
    "\n",
    "launch_mass_in_kg[:5]"
   ]
  },
  {
   "cell_type": "code",
   "execution_count": 19,
   "metadata": {},
   "outputs": [],
   "source": [
    "full_table['Launch Mass'] = launch_mass_in_kg\n",
    "full_table = full_table.rename(columns={\"Launch Mass\": \"Launch Mass in kg\"})"
   ]
  },
  {
   "cell_type": "markdown",
   "metadata": {},
   "source": [
    "### Dry Mass"
   ]
  },
  {
   "cell_type": "code",
   "execution_count": 20,
   "metadata": {},
   "outputs": [
    {
     "data": {
      "text/plain": [
       "60    1,426 kg (3,144 lb)\n",
       "61      559 kg (1,232 lb)\n",
       "62                    NaN\n",
       "63                    NaN\n",
       "64                    NaN\n",
       "Name: Dry Mass, dtype: object"
      ]
     },
     "execution_count": 20,
     "metadata": {},
     "output_type": "execute_result"
    }
   ],
   "source": [
    "full_table['Dry Mass'][60:65]"
   ]
  },
  {
   "cell_type": "code",
   "execution_count": 21,
   "metadata": {},
   "outputs": [
    {
     "data": {
      "text/plain": [
       "60    1426.0\n",
       "61     559.0\n",
       "62       NaN\n",
       "63       NaN\n",
       "64       NaN\n",
       "Name: 0, dtype: float64"
      ]
     },
     "execution_count": 21,
     "metadata": {},
     "output_type": "execute_result"
    }
   ],
   "source": [
    "# dry mass in kg\n",
    "\n",
    "dry_mass_in_kg = full_table['Dry Mass'].str.extract('([0-9,.]*)')[0]\n",
    "dry_mass_in_kg = dry_mass_in_kg.str.replace(',', '')\n",
    "dry_mass_in_kg = pd.to_numeric(dry_mass_in_kg, errors='coerce')\n",
    "\n",
    "dry_mass_in_kg[60:65]"
   ]
  },
  {
   "cell_type": "code",
   "execution_count": 22,
   "metadata": {},
   "outputs": [],
   "source": [
    "full_table['Dry Mass'] = dry_mass_in_kg\n",
    "full_table = full_table.rename(columns={\"Dry Mass\": \"Dry Mass in kg\"})"
   ]
  },
  {
   "cell_type": "markdown",
   "metadata": {},
   "source": [
    "### On-board Power"
   ]
  },
  {
   "cell_type": "code",
   "execution_count": 23,
   "metadata": {},
   "outputs": [
    {
     "data": {
      "text/plain": [
       "0    46 W\n",
       "1    47 W\n",
       "2     3 W\n",
       "3    16 W\n",
       "4    16 W\n",
       "Name: On-board Power, dtype: object"
      ]
     },
     "execution_count": 23,
     "metadata": {},
     "output_type": "execute_result"
    }
   ],
   "source": [
    "full_table['On-board Power'].head()"
   ]
  },
  {
   "cell_type": "code",
   "execution_count": 24,
   "metadata": {},
   "outputs": [
    {
     "data": {
      "text/plain": [
       "0    46.0\n",
       "1    47.0\n",
       "2     3.0\n",
       "3    16.0\n",
       "4    16.0\n",
       "Name: 0, dtype: float64"
      ]
     },
     "execution_count": 24,
     "metadata": {},
     "output_type": "execute_result"
    }
   ],
   "source": [
    "on_board_power_in_W = full_table['On-board Power'].str.extract('(\\d*)')[0]\n",
    "on_board_power_in_W = pd.to_numeric(on_board_power_in_W, errors='coerce')\n",
    "\n",
    "on_board_power_in_W.head()"
   ]
  },
  {
   "cell_type": "code",
   "execution_count": 25,
   "metadata": {},
   "outputs": [],
   "source": [
    "full_table['On-board Power'] = on_board_power_in_W\n",
    "full_table = full_table.rename(columns={\"On-board Power\": \"On-board Power in W\"})"
   ]
  },
  {
   "cell_type": "markdown",
   "metadata": {},
   "source": [
    "### Launch Date"
   ]
  },
  {
   "cell_type": "code",
   "execution_count": 26,
   "metadata": {},
   "outputs": [
    {
     "data": {
      "text/plain": [
       "0    19 April 1975, 13:10:00 IST\n",
       "1      7 June 1979, 16:00:00 IST\n",
       "2                 10 August 1979\n",
       "3      18 July 1980, 8:01:00 IST\n",
       "4      31 May 1981, 10:30:00 IST\n",
       "Name: Launch Date, dtype: object"
      ]
     },
     "execution_count": 26,
     "metadata": {},
     "output_type": "execute_result"
    }
   ],
   "source": [
    "full_table['Launch Date'].head()"
   ]
  },
  {
   "cell_type": "code",
   "execution_count": 27,
   "metadata": {},
   "outputs": [],
   "source": [
    "launch_date = full_table['Launch Date'].str.extract('(\\d+ [A-Za-z]+ \\d{4})')[0]\n",
    "launch_date = pd.to_datetime(launch_date, errors='coerce')\n",
    "\n",
    "launch_time = full_table['Launch Date'].str.extract('(\\d{1,2}\\:\\d{1,2}(\\:\\d{1,2})?)')[0]\n",
    "\n",
    "launch_time_zone = full_table['Launch Date'].str.extract('([A-Z]{3})')[0]"
   ]
  },
  {
   "cell_type": "code",
   "execution_count": 28,
   "metadata": {},
   "outputs": [
    {
     "data": {
      "text/plain": [
       "0   1975-04-19\n",
       "1   1979-06-07\n",
       "2   1979-08-10\n",
       "3   1980-07-18\n",
       "4   1981-05-31\n",
       "Name: 0, dtype: datetime64[ns]"
      ]
     },
     "execution_count": 28,
     "metadata": {},
     "output_type": "execute_result"
    }
   ],
   "source": [
    "launch_date.head()"
   ]
  },
  {
   "cell_type": "code",
   "execution_count": 29,
   "metadata": {},
   "outputs": [
    {
     "data": {
      "text/plain": [
       "0    13:10:00\n",
       "1    16:00:00\n",
       "2         NaN\n",
       "3     8:01:00\n",
       "4    10:30:00\n",
       "Name: 0, dtype: object"
      ]
     },
     "execution_count": 29,
     "metadata": {},
     "output_type": "execute_result"
    }
   ],
   "source": [
    "launch_time.head()"
   ]
  },
  {
   "cell_type": "code",
   "execution_count": 30,
   "metadata": {},
   "outputs": [
    {
     "data": {
      "text/plain": [
       "0    IST\n",
       "1    IST\n",
       "2    NaN\n",
       "3    IST\n",
       "4    IST\n",
       "Name: 0, dtype: object"
      ]
     },
     "execution_count": 30,
     "metadata": {},
     "output_type": "execute_result"
    }
   ],
   "source": [
    "launch_time_zone.head()"
   ]
  },
  {
   "cell_type": "code",
   "execution_count": 31,
   "metadata": {},
   "outputs": [],
   "source": [
    "full_table['Launch Date'] = launch_date\n",
    "full_table['Launch Time'] = launch_time\n",
    "full_table['Launch Timezone'] = launch_time_zone"
   ]
  },
  {
   "cell_type": "markdown",
   "metadata": {},
   "source": [
    "### Periapsis, Apoapsis, Semi-Major Axis"
   ]
  },
  {
   "cell_type": "code",
   "execution_count": 32,
   "metadata": {},
   "outputs": [
    {
     "data": {
      "text/html": [
       "<div>\n",
       "<style scoped>\n",
       "    .dataframe tbody tr th:only-of-type {\n",
       "        vertical-align: middle;\n",
       "    }\n",
       "\n",
       "    .dataframe tbody tr th {\n",
       "        vertical-align: top;\n",
       "    }\n",
       "\n",
       "    .dataframe thead th {\n",
       "        text-align: right;\n",
       "    }\n",
       "</style>\n",
       "<table border=\"1\" class=\"dataframe\">\n",
       "  <thead>\n",
       "    <tr style=\"text-align: right;\">\n",
       "      <th></th>\n",
       "      <th>Periapsis</th>\n",
       "      <th>Apoapsis</th>\n",
       "      <th>Semi-Major Axis</th>\n",
       "    </tr>\n",
       "  </thead>\n",
       "  <tbody>\n",
       "    <tr>\n",
       "      <th>34</th>\n",
       "      <td>35,741.2 km (22,208.6 mi)</td>\n",
       "      <td>35,845.9 km (22,273.6 mi)</td>\n",
       "      <td>42,166 km (26,201 mi)</td>\n",
       "    </tr>\n",
       "    <tr>\n",
       "      <th>35</th>\n",
       "      <td>35,874.2 km (22,291.2 mi)</td>\n",
       "      <td>35,980.2 km (22,357.1 mi)</td>\n",
       "      <td>42,298 km (26,283 mi)</td>\n",
       "    </tr>\n",
       "    <tr>\n",
       "      <th>36</th>\n",
       "      <td>35,892.6 km (22,302.6 mi)</td>\n",
       "      <td>35,936.5 km (22,329.9 mi)</td>\n",
       "      <td>42,285 km (26,275 mi)</td>\n",
       "    </tr>\n",
       "    <tr>\n",
       "      <th>37</th>\n",
       "      <td>35,576.4 km (22,106.2 mi)</td>\n",
       "      <td>35,716.3 km (22,193.1 mi)</td>\n",
       "      <td>42,017 km (26,108 mi)</td>\n",
       "    </tr>\n",
       "    <tr>\n",
       "      <th>38</th>\n",
       "      <td>824.2 km (512.1 mi)</td>\n",
       "      <td>829.5 km (515.4 mi)</td>\n",
       "      <td>7,197 km (4,472 mi)</td>\n",
       "    </tr>\n",
       "  </tbody>\n",
       "</table>\n",
       "</div>"
      ],
      "text/plain": [
       "                    Periapsis                   Apoapsis  \\\n",
       "34  35,741.2 km (22,208.6 mi)  35,845.9 km (22,273.6 mi)   \n",
       "35  35,874.2 km (22,291.2 mi)  35,980.2 km (22,357.1 mi)   \n",
       "36  35,892.6 km (22,302.6 mi)  35,936.5 km (22,329.9 mi)   \n",
       "37  35,576.4 km (22,106.2 mi)  35,716.3 km (22,193.1 mi)   \n",
       "38        824.2 km (512.1 mi)        829.5 km (515.4 mi)   \n",
       "\n",
       "          Semi-Major Axis  \n",
       "34  42,166 km (26,201 mi)  \n",
       "35  42,298 km (26,283 mi)  \n",
       "36  42,285 km (26,275 mi)  \n",
       "37  42,017 km (26,108 mi)  \n",
       "38    7,197 km (4,472 mi)  "
      ]
     },
     "execution_count": 32,
     "metadata": {},
     "output_type": "execute_result"
    }
   ],
   "source": [
    "full_table[['Periapsis', 'Apoapsis', 'Semi-Major Axis']][34:39]"
   ]
  },
  {
   "cell_type": "code",
   "execution_count": 33,
   "metadata": {},
   "outputs": [],
   "source": [
    "periapsis_in_km = full_table['Periapsis'].str.extract('([0-9,.]*)')[0].str.replace(',', '')\n",
    "periapsis_in_km = pd.to_numeric(periapsis_in_km, errors='coerce')\n",
    "\n",
    "apoapsis_in_km = full_table['Apoapsis'].str.extract('([0-9,.]*)')[0].str.replace(',', '')\n",
    "apoapsis_in_km = pd.to_numeric(apoapsis_in_km, errors='coerce')\n",
    "\n",
    "semi_major_axis_in_km = full_table['Semi-Major Axis'].str.extract('([0-9,.]*)')[0].str.replace(',', '')\n",
    "semi_major_axis_in_km = pd.to_numeric(semi_major_axis_in_km, errors='coerce')"
   ]
  },
  {
   "cell_type": "code",
   "execution_count": 34,
   "metadata": {},
   "outputs": [
    {
     "data": {
      "text/plain": [
       "34    35741.2\n",
       "35    35874.2\n",
       "36    35892.6\n",
       "37    35576.4\n",
       "38      824.2\n",
       "Name: 0, dtype: float64"
      ]
     },
     "execution_count": 34,
     "metadata": {},
     "output_type": "execute_result"
    }
   ],
   "source": [
    "periapsis_in_km[34:39]"
   ]
  },
  {
   "cell_type": "code",
   "execution_count": 35,
   "metadata": {},
   "outputs": [
    {
     "data": {
      "text/plain": [
       "34    35845.9\n",
       "35    35980.2\n",
       "36    35936.5\n",
       "37    35716.3\n",
       "38      829.5\n",
       "Name: 0, dtype: float64"
      ]
     },
     "execution_count": 35,
     "metadata": {},
     "output_type": "execute_result"
    }
   ],
   "source": [
    "apoapsis_in_km[34:39]"
   ]
  },
  {
   "cell_type": "code",
   "execution_count": 36,
   "metadata": {},
   "outputs": [
    {
     "data": {
      "text/plain": [
       "34    42166.0\n",
       "35    42298.0\n",
       "36    42285.0\n",
       "37    42017.0\n",
       "38     7197.0\n",
       "Name: 0, dtype: float64"
      ]
     },
     "execution_count": 36,
     "metadata": {},
     "output_type": "execute_result"
    }
   ],
   "source": [
    "semi_major_axis_in_km[34:39]"
   ]
  },
  {
   "cell_type": "code",
   "execution_count": 37,
   "metadata": {},
   "outputs": [],
   "source": [
    "full_table['Periapsis'] = periapsis_in_km\n",
    "full_table['Apoapsis'] = apoapsis_in_km\n",
    "full_table['Semi-Major Axis'] = semi_major_axis_in_km\n",
    "\n",
    "full_table = full_table.rename(columns={\"Periapsis\": \"Periapsis in km\", \n",
    "                                        \"Apoapsis\": \"Apoapsis in km\", \n",
    "                                        \"Semi-Major Axis\": \"Semi-Major Axis in km\"})"
   ]
  },
  {
   "cell_type": "markdown",
   "metadata": {},
   "source": [
    "### Period"
   ]
  },
  {
   "cell_type": "code",
   "execution_count": 38,
   "metadata": {},
   "outputs": [
    {
     "data": {
      "text/plain": [
       "0    96.5 mins\n",
       "1    95.2 mins\n",
       "2          NaN\n",
       "3    96.9 mins\n",
       "4    90.5 mins\n",
       "Name: Period, dtype: object"
      ]
     },
     "execution_count": 38,
     "metadata": {},
     "output_type": "execute_result"
    }
   ],
   "source": [
    "full_table['Period'].head()"
   ]
  },
  {
   "cell_type": "code",
   "execution_count": 39,
   "metadata": {},
   "outputs": [
    {
     "data": {
      "text/plain": [
       "0    96.5\n",
       "1    95.2\n",
       "2     NaN\n",
       "3    96.9\n",
       "4    90.5\n",
       "Name: Period, dtype: float64"
      ]
     },
     "execution_count": 39,
     "metadata": {},
     "output_type": "execute_result"
    }
   ],
   "source": [
    "period = full_table['Period'].str.replace(' (mins|minutes).*', '')\n",
    "period = period.str.replace(',', '')\n",
    "period = pd.to_numeric(period, errors='coerce')\n",
    "period.head()"
   ]
  },
  {
   "cell_type": "code",
   "execution_count": 40,
   "metadata": {},
   "outputs": [],
   "source": [
    "full_table['Period'] = period"
   ]
  },
  {
   "cell_type": "markdown",
   "metadata": {},
   "source": [
    "### Inclination"
   ]
  },
  {
   "cell_type": "code",
   "execution_count": 41,
   "metadata": {},
   "outputs": [
    {
     "data": {
      "text/plain": [
       "0    50.7°\n",
       "1    50.7°\n",
       "2      NaN\n",
       "3    44.7°\n",
       "4    46.3°\n",
       "Name: Inclination, dtype: object"
      ]
     },
     "execution_count": 41,
     "metadata": {},
     "output_type": "execute_result"
    }
   ],
   "source": [
    "full_table['Inclination'].head()"
   ]
  },
  {
   "cell_type": "code",
   "execution_count": 42,
   "metadata": {},
   "outputs": [
    {
     "data": {
      "text/plain": [
       "0    50.7\n",
       "1    50.7\n",
       "2     NaN\n",
       "3    44.7\n",
       "4    46.3\n",
       "Name: Inclination, dtype: float64"
      ]
     },
     "execution_count": 42,
     "metadata": {},
     "output_type": "execute_result"
    }
   ],
   "source": [
    "inclinations_in_degrees = full_table['Inclination'].str.replace('[^0-9.]', '')\n",
    "inclinations_in_degrees = pd.to_numeric(inclinations_in_degrees, errors='coerce')\n",
    "inclinations_in_degrees.head()"
   ]
  },
  {
   "cell_type": "code",
   "execution_count": 43,
   "metadata": {},
   "outputs": [],
   "source": [
    "full_table['Inclination'] = inclinations_in_degrees"
   ]
  },
  {
   "cell_type": "markdown",
   "metadata": {},
   "source": [
    "### Longitude"
   ]
  },
  {
   "cell_type": "code",
   "execution_count": 44,
   "metadata": {},
   "outputs": [
    {
     "data": {
      "text/plain": [
       "81    32.5° E\n",
       "82     129° E\n",
       "83        NaN\n",
       "84        NaN\n",
       "85        NaN\n",
       "Name: Longitude, dtype: object"
      ]
     },
     "execution_count": 44,
     "metadata": {},
     "output_type": "execute_result"
    }
   ],
   "source": [
    "full_table['Longitude'][81:86]"
   ]
  },
  {
   "cell_type": "code",
   "execution_count": null,
   "metadata": {},
   "outputs": [],
   "source": []
  },
  {
   "cell_type": "markdown",
   "metadata": {},
   "source": [
    "### Eccentricity"
   ]
  },
  {
   "cell_type": "code",
   "execution_count": 45,
   "metadata": {},
   "outputs": [
    {
     "data": {
      "text/plain": [
       "0    0.00308\n",
       "1    0.00325\n",
       "2        NaN\n",
       "3    0.04389\n",
       "4    0.01735\n",
       "Name: Eccentricity, dtype: object"
      ]
     },
     "execution_count": 45,
     "metadata": {},
     "output_type": "execute_result"
    }
   ],
   "source": [
    "full_table['Eccentricity'].head()"
   ]
  },
  {
   "cell_type": "code",
   "execution_count": null,
   "metadata": {},
   "outputs": [],
   "source": []
  },
  {
   "cell_type": "markdown",
   "metadata": {},
   "source": [
    "### Epoch Start"
   ]
  },
  {
   "cell_type": "code",
   "execution_count": 46,
   "metadata": {},
   "outputs": [
    {
     "data": {
      "text/plain": [
       "0    19 April 1975, 01:30:00 IST\n",
       "1      7 June 1979, 01:30:00 IST\n",
       "2                            NaN\n",
       "3      18 July 1980, 1:30:00 IST\n",
       "4       31 May 1981, 1:30:00 IST\n",
       "Name: Epoch Start, dtype: object"
      ]
     },
     "execution_count": 46,
     "metadata": {},
     "output_type": "execute_result"
    }
   ],
   "source": [
    "full_table['Epoch Start'].head()"
   ]
  },
  {
   "cell_type": "code",
   "execution_count": 47,
   "metadata": {},
   "outputs": [],
   "source": [
    "epoch_date = full_table['Epoch Start'].str.extract('(\\d+ [A-Za-z]+ \\d{4})')[0]\n",
    "epoch_date = pd.to_datetime(launch_date, errors='coerce')\n",
    "\n",
    "epoch_time = full_table['Epoch Start'].str.extract('(\\d{1,2}\\:\\d{1,2}(\\:\\d{1,2})?)')[0]\n",
    "\n",
    "epoch_time_zone = full_table['Epoch Start'].str.extract('([A-Z]{3})')[0]"
   ]
  },
  {
   "cell_type": "code",
   "execution_count": 48,
   "metadata": {},
   "outputs": [
    {
     "data": {
      "text/plain": [
       "0   1975-04-19\n",
       "1   1979-06-07\n",
       "2   1979-08-10\n",
       "3   1980-07-18\n",
       "4   1981-05-31\n",
       "Name: 0, dtype: datetime64[ns]"
      ]
     },
     "execution_count": 48,
     "metadata": {},
     "output_type": "execute_result"
    }
   ],
   "source": [
    "epoch_date.head()"
   ]
  },
  {
   "cell_type": "code",
   "execution_count": 49,
   "metadata": {},
   "outputs": [
    {
     "data": {
      "text/plain": [
       "0    01:30:00\n",
       "1    01:30:00\n",
       "2         NaN\n",
       "3     1:30:00\n",
       "4     1:30:00\n",
       "Name: 0, dtype: object"
      ]
     },
     "execution_count": 49,
     "metadata": {},
     "output_type": "execute_result"
    }
   ],
   "source": [
    "epoch_time.head()"
   ]
  },
  {
   "cell_type": "code",
   "execution_count": 50,
   "metadata": {},
   "outputs": [
    {
     "data": {
      "text/plain": [
       "0    IST\n",
       "1    IST\n",
       "2    NaN\n",
       "3    IST\n",
       "4    IST\n",
       "Name: 0, dtype: object"
      ]
     },
     "execution_count": 50,
     "metadata": {},
     "output_type": "execute_result"
    }
   ],
   "source": [
    "epoch_time_zone.head()"
   ]
  },
  {
   "cell_type": "code",
   "execution_count": 51,
   "metadata": {},
   "outputs": [],
   "source": [
    "full_table['Epoch Start Date'] = epoch_date\n",
    "full_table['Epoch Start Time'] = epoch_time\n",
    "full_table['Epoch Start Timezone'] = epoch_time_zone"
   ]
  },
  {
   "cell_type": "markdown",
   "metadata": {},
   "source": [
    "### Decay Date"
   ]
  },
  {
   "cell_type": "code",
   "execution_count": 52,
   "metadata": {},
   "outputs": [
    {
     "data": {
      "text/plain": [
       "0    11 February 1992\n",
       "1    17 February 1989\n",
       "2                 NaN\n",
       "3         20 May 1981\n",
       "4         8 June 1981\n",
       "Name: Decay Date, dtype: object"
      ]
     },
     "execution_count": 52,
     "metadata": {},
     "output_type": "execute_result"
    }
   ],
   "source": [
    "full_table['Decay Date'].head()"
   ]
  },
  {
   "cell_type": "code",
   "execution_count": 53,
   "metadata": {},
   "outputs": [
    {
     "data": {
      "text/plain": [
       "0   1992-02-11\n",
       "1   1989-02-17\n",
       "2          NaT\n",
       "3   1981-05-20\n",
       "4   1981-06-08\n",
       "Name: Decay Date, dtype: datetime64[ns]"
      ]
     },
     "execution_count": 53,
     "metadata": {},
     "output_type": "execute_result"
    }
   ],
   "source": [
    "decay_date = pd.to_datetime(full_table['Decay Date'], errors='coerce')\n",
    "decay_date.head()"
   ]
  },
  {
   "cell_type": "code",
   "execution_count": 54,
   "metadata": {},
   "outputs": [],
   "source": [
    "full_table['Decay Date'] = decay_date"
   ]
  },
  {
   "cell_type": "markdown",
   "metadata": {},
   "source": [
    "### Launch Vehicle"
   ]
  },
  {
   "cell_type": "code",
   "execution_count": 55,
   "metadata": {},
   "outputs": [
    {
     "data": {
      "text/plain": [
       "0                                 Interkosmos-II\n",
       "1    Modified SS-5 (SKean IRBM) plus Upper Stage\n",
       "2                                       SLV-3-E1\n",
       "3                                       SLV-3-E2\n",
       "4                                       SLV-3-D1\n",
       "Name: Launch Vehicle, dtype: object"
      ]
     },
     "execution_count": 55,
     "metadata": {},
     "output_type": "execute_result"
    }
   ],
   "source": [
    "full_table['Launch Vehicle'].head()"
   ]
  },
  {
   "cell_type": "code",
   "execution_count": 56,
   "metadata": {},
   "outputs": [],
   "source": [
    "launch_vehicle_type = full_table['Launch Vehicle'].str.split('-| ').str[0]"
   ]
  },
  {
   "cell_type": "code",
   "execution_count": 57,
   "metadata": {},
   "outputs": [
    {
     "data": {
      "text/plain": [
       "0    Interkosmos\n",
       "1       Modified\n",
       "2            SLV\n",
       "3            SLV\n",
       "4            SLV\n",
       "Name: Launch Vehicle, dtype: object"
      ]
     },
     "execution_count": 57,
     "metadata": {},
     "output_type": "execute_result"
    }
   ],
   "source": [
    "launch_vehicle_type.head()"
   ]
  },
  {
   "cell_type": "code",
   "execution_count": 58,
   "metadata": {},
   "outputs": [
    {
     "data": {
      "text/plain": [
       "PSLV           62\n",
       "Ariane         25\n",
       "GSLV           17\n",
       "SLV             4\n",
       "ASLV            4\n",
       "Delta           2\n",
       "Modified        2\n",
       "Vostok          2\n",
       "Molniya         1\n",
       "Shuttle         1\n",
       "SpaceX          1\n",
       "Interkosmos     1\n",
       "Name: Launch Vehicle, dtype: int64"
      ]
     },
     "execution_count": 58,
     "metadata": {},
     "output_type": "execute_result"
    }
   ],
   "source": [
    "launch_vehicle_type.value_counts()"
   ]
  },
  {
   "cell_type": "code",
   "execution_count": 59,
   "metadata": {},
   "outputs": [],
   "source": [
    "full_table['Launch Vehicle Type'] = launch_vehicle_type"
   ]
  },
  {
   "cell_type": "code",
   "execution_count": 60,
   "metadata": {},
   "outputs": [
    {
     "data": {
      "text/html": [
       "<div>\n",
       "<style scoped>\n",
       "    .dataframe tbody tr th:only-of-type {\n",
       "        vertical-align: middle;\n",
       "    }\n",
       "\n",
       "    .dataframe tbody tr th {\n",
       "        vertical-align: top;\n",
       "    }\n",
       "\n",
       "    .dataframe thead th {\n",
       "        text-align: right;\n",
       "    }\n",
       "</style>\n",
       "<table border=\"1\" class=\"dataframe\">\n",
       "  <thead>\n",
       "    <tr style=\"text-align: right;\">\n",
       "      <th></th>\n",
       "      <th>#</th>\n",
       "      <th>Name</th>\n",
       "      <th>Discipline</th>\n",
       "      <th>COSPAR ID</th>\n",
       "      <th>SatCat #</th>\n",
       "      <th>Launch Mass in kg</th>\n",
       "      <th>Dry Mass in kg</th>\n",
       "      <th>On-board Power in W</th>\n",
       "      <th>Launch Date</th>\n",
       "      <th>Launch Vehicle</th>\n",
       "      <th>...</th>\n",
       "      <th>Eccentricity</th>\n",
       "      <th>Epoch Start</th>\n",
       "      <th>Decay Date</th>\n",
       "      <th>Note</th>\n",
       "      <th>Launch Time</th>\n",
       "      <th>Launch Timezone</th>\n",
       "      <th>Epoch Start Date</th>\n",
       "      <th>Epoch Start Time</th>\n",
       "      <th>Epoch Start Timezone</th>\n",
       "      <th>Launch Vehicle Type</th>\n",
       "    </tr>\n",
       "  </thead>\n",
       "  <tbody>\n",
       "    <tr>\n",
       "      <th>0</th>\n",
       "      <td>1</td>\n",
       "      <td>Aryabhatta</td>\n",
       "      <td>Earth Sciences Space Physics</td>\n",
       "      <td>1975-033A</td>\n",
       "      <td>07752</td>\n",
       "      <td>360.0</td>\n",
       "      <td>NaN</td>\n",
       "      <td>46.0</td>\n",
       "      <td>1975-04-19</td>\n",
       "      <td>Interkosmos-II</td>\n",
       "      <td>...</td>\n",
       "      <td>0.00308</td>\n",
       "      <td>19 April 1975, 01:30:00 IST</td>\n",
       "      <td>1992-02-11</td>\n",
       "      <td>Active technological experience in building an...</td>\n",
       "      <td>13:10:00</td>\n",
       "      <td>IST</td>\n",
       "      <td>1975-04-19</td>\n",
       "      <td>01:30:00</td>\n",
       "      <td>IST</td>\n",
       "      <td>Interkosmos</td>\n",
       "    </tr>\n",
       "    <tr>\n",
       "      <th>1</th>\n",
       "      <td>2</td>\n",
       "      <td>Bhaskara Sega-I</td>\n",
       "      <td>Astronomy Communications Engineering Earth Sci...</td>\n",
       "      <td>1979-051A</td>\n",
       "      <td>11392</td>\n",
       "      <td>444.0</td>\n",
       "      <td>NaN</td>\n",
       "      <td>47.0</td>\n",
       "      <td>1979-06-07</td>\n",
       "      <td>Modified SS-5 (SKean IRBM) plus Upper Stage</td>\n",
       "      <td>...</td>\n",
       "      <td>0.00325</td>\n",
       "      <td>7 June 1979, 01:30:00 IST</td>\n",
       "      <td>1989-02-17</td>\n",
       "      <td>First experimental remote sensing satellite. C...</td>\n",
       "      <td>16:00:00</td>\n",
       "      <td>IST</td>\n",
       "      <td>1979-06-07</td>\n",
       "      <td>01:30:00</td>\n",
       "      <td>IST</td>\n",
       "      <td>Modified</td>\n",
       "    </tr>\n",
       "    <tr>\n",
       "      <th>2</th>\n",
       "      <td>3</td>\n",
       "      <td>Rohini Technology Payload</td>\n",
       "      <td>Experimental</td>\n",
       "      <td>NaN</td>\n",
       "      <td>NaN</td>\n",
       "      <td>35.0</td>\n",
       "      <td>NaN</td>\n",
       "      <td>3.0</td>\n",
       "      <td>1979-08-10</td>\n",
       "      <td>SLV-3-E1</td>\n",
       "      <td>...</td>\n",
       "      <td>NaN</td>\n",
       "      <td>NaN</td>\n",
       "      <td>NaT</td>\n",
       "      <td>Intended for measuring in-flight performance o...</td>\n",
       "      <td>NaN</td>\n",
       "      <td>NaN</td>\n",
       "      <td>1979-08-10</td>\n",
       "      <td>NaN</td>\n",
       "      <td>NaN</td>\n",
       "      <td>SLV</td>\n",
       "    </tr>\n",
       "    <tr>\n",
       "      <th>3</th>\n",
       "      <td>4</td>\n",
       "      <td>Rohini RS-1 (Rohini-1B)</td>\n",
       "      <td>Earth Sciences</td>\n",
       "      <td>1980-062A</td>\n",
       "      <td>11899</td>\n",
       "      <td>35.0</td>\n",
       "      <td>NaN</td>\n",
       "      <td>16.0</td>\n",
       "      <td>1980-07-18</td>\n",
       "      <td>SLV-3-E2</td>\n",
       "      <td>...</td>\n",
       "      <td>0.04389</td>\n",
       "      <td>18 July 1980, 1:30:00 IST</td>\n",
       "      <td>1981-05-20</td>\n",
       "      <td>Used for measuring in-flight performance of se...</td>\n",
       "      <td>8:01:00</td>\n",
       "      <td>IST</td>\n",
       "      <td>1980-07-18</td>\n",
       "      <td>1:30:00</td>\n",
       "      <td>IST</td>\n",
       "      <td>SLV</td>\n",
       "    </tr>\n",
       "    <tr>\n",
       "      <th>4</th>\n",
       "      <td>5</td>\n",
       "      <td>Rohini RS-D1 (Rohini-2)</td>\n",
       "      <td>Earth Sciences</td>\n",
       "      <td>1981-051A</td>\n",
       "      <td>12491</td>\n",
       "      <td>38.0</td>\n",
       "      <td>NaN</td>\n",
       "      <td>16.0</td>\n",
       "      <td>1981-05-31</td>\n",
       "      <td>SLV-3-D1</td>\n",
       "      <td>...</td>\n",
       "      <td>0.01735</td>\n",
       "      <td>31 May 1981, 1:30:00 IST</td>\n",
       "      <td>1981-06-08</td>\n",
       "      <td>Used for conducting some remote sensing techno...</td>\n",
       "      <td>10:30:00</td>\n",
       "      <td>IST</td>\n",
       "      <td>1981-05-31</td>\n",
       "      <td>1:30:00</td>\n",
       "      <td>IST</td>\n",
       "      <td>SLV</td>\n",
       "    </tr>\n",
       "  </tbody>\n",
       "</table>\n",
       "<p>5 rows × 27 columns</p>\n",
       "</div>"
      ],
      "text/plain": [
       "   #                       Name  \\\n",
       "0  1                 Aryabhatta   \n",
       "1  2            Bhaskara Sega-I   \n",
       "2  3  Rohini Technology Payload   \n",
       "3  4    Rohini RS-1 (Rohini-1B)   \n",
       "4  5    Rohini RS-D1 (Rohini-2)   \n",
       "\n",
       "                                          Discipline  COSPAR ID SatCat #  \\\n",
       "0                       Earth Sciences Space Physics  1975-033A    07752   \n",
       "1  Astronomy Communications Engineering Earth Sci...  1979-051A    11392   \n",
       "2                                       Experimental        NaN      NaN   \n",
       "3                                     Earth Sciences  1980-062A    11899   \n",
       "4                                     Earth Sciences  1981-051A    12491   \n",
       "\n",
       "   Launch Mass in kg  Dry Mass in kg  On-board Power in W Launch Date  \\\n",
       "0              360.0             NaN                 46.0  1975-04-19   \n",
       "1              444.0             NaN                 47.0  1979-06-07   \n",
       "2               35.0             NaN                  3.0  1979-08-10   \n",
       "3               35.0             NaN                 16.0  1980-07-18   \n",
       "4               38.0             NaN                 16.0  1981-05-31   \n",
       "\n",
       "                                Launch Vehicle  ... Eccentricity  \\\n",
       "0                               Interkosmos-II  ...      0.00308   \n",
       "1  Modified SS-5 (SKean IRBM) plus Upper Stage  ...      0.00325   \n",
       "2                                     SLV-3-E1  ...          NaN   \n",
       "3                                     SLV-3-E2  ...      0.04389   \n",
       "4                                     SLV-3-D1  ...      0.01735   \n",
       "\n",
       "                   Epoch Start  Decay Date  \\\n",
       "0  19 April 1975, 01:30:00 IST  1992-02-11   \n",
       "1    7 June 1979, 01:30:00 IST  1989-02-17   \n",
       "2                          NaN         NaT   \n",
       "3    18 July 1980, 1:30:00 IST  1981-05-20   \n",
       "4     31 May 1981, 1:30:00 IST  1981-06-08   \n",
       "\n",
       "                                                Note  Launch Time  \\\n",
       "0  Active technological experience in building an...     13:10:00   \n",
       "1  First experimental remote sensing satellite. C...     16:00:00   \n",
       "2  Intended for measuring in-flight performance o...          NaN   \n",
       "3  Used for measuring in-flight performance of se...      8:01:00   \n",
       "4  Used for conducting some remote sensing techno...     10:30:00   \n",
       "\n",
       "   Launch Timezone Epoch Start Date Epoch Start Time Epoch Start Timezone  \\\n",
       "0              IST       1975-04-19         01:30:00                  IST   \n",
       "1              IST       1979-06-07         01:30:00                  IST   \n",
       "2              NaN       1979-08-10              NaN                  NaN   \n",
       "3              IST       1980-07-18          1:30:00                  IST   \n",
       "4              IST       1981-05-31          1:30:00                  IST   \n",
       "\n",
       "  Launch Vehicle Type  \n",
       "0         Interkosmos  \n",
       "1            Modified  \n",
       "2                 SLV  \n",
       "3                 SLV  \n",
       "4                 SLV  \n",
       "\n",
       "[5 rows x 27 columns]"
      ]
     },
     "execution_count": 60,
     "metadata": {},
     "output_type": "execute_result"
    }
   ],
   "source": [
    "full_table.head()"
   ]
  },
  {
   "cell_type": "code",
   "execution_count": 61,
   "metadata": {},
   "outputs": [
    {
     "data": {
      "text/html": [
       "<div>\n",
       "<style scoped>\n",
       "    .dataframe tbody tr th:only-of-type {\n",
       "        vertical-align: middle;\n",
       "    }\n",
       "\n",
       "    .dataframe tbody tr th {\n",
       "        vertical-align: top;\n",
       "    }\n",
       "\n",
       "    .dataframe thead th {\n",
       "        text-align: right;\n",
       "    }\n",
       "</style>\n",
       "<table border=\"1\" class=\"dataframe\">\n",
       "  <thead>\n",
       "    <tr style=\"text-align: right;\">\n",
       "      <th></th>\n",
       "      <th>#</th>\n",
       "      <th>Name</th>\n",
       "      <th>Discipline</th>\n",
       "      <th>COSPAR ID</th>\n",
       "      <th>SatCat #</th>\n",
       "      <th>Launch Mass in kg</th>\n",
       "      <th>Dry Mass in kg</th>\n",
       "      <th>On-board Power in W</th>\n",
       "      <th>Launch Date</th>\n",
       "      <th>Launch Vehicle</th>\n",
       "      <th>...</th>\n",
       "      <th>Eccentricity</th>\n",
       "      <th>Epoch Start</th>\n",
       "      <th>Decay Date</th>\n",
       "      <th>Note</th>\n",
       "      <th>Launch Time</th>\n",
       "      <th>Launch Timezone</th>\n",
       "      <th>Epoch Start Date</th>\n",
       "      <th>Epoch Start Time</th>\n",
       "      <th>Epoch Start Timezone</th>\n",
       "      <th>Launch Vehicle Type</th>\n",
       "    </tr>\n",
       "  </thead>\n",
       "  <tbody>\n",
       "    <tr>\n",
       "      <th>117</th>\n",
       "      <td>118</td>\n",
       "      <td>Orbiter of Chandrayaan-2</td>\n",
       "      <td>Lunar exploration</td>\n",
       "      <td>2019-042A</td>\n",
       "      <td>44441</td>\n",
       "      <td>2379.0</td>\n",
       "      <td>682.0</td>\n",
       "      <td>1.0</td>\n",
       "      <td>2019-07-22</td>\n",
       "      <td>GSLV Mk III M01</td>\n",
       "      <td>...</td>\n",
       "      <td>NaN</td>\n",
       "      <td>20 August 2019, 09:02 IST (03:32 UTC)</td>\n",
       "      <td>NaT</td>\n",
       "      <td>India's second lunar exploration mission. Orbi...</td>\n",
       "      <td>14:43:12</td>\n",
       "      <td>IST</td>\n",
       "      <td>2019-07-22</td>\n",
       "      <td>09:02</td>\n",
       "      <td>IST</td>\n",
       "      <td>GSLV</td>\n",
       "    </tr>\n",
       "    <tr>\n",
       "      <th>118</th>\n",
       "      <td>119</td>\n",
       "      <td>Cartosat-3</td>\n",
       "      <td>Earth observation</td>\n",
       "      <td>2019-081A</td>\n",
       "      <td>44804</td>\n",
       "      <td>1625.0</td>\n",
       "      <td>NaN</td>\n",
       "      <td>2000.0</td>\n",
       "      <td>2019-11-27</td>\n",
       "      <td>PSLV-XL C47</td>\n",
       "      <td>...</td>\n",
       "      <td>NaN</td>\n",
       "      <td>NaN</td>\n",
       "      <td>NaT</td>\n",
       "      <td>13 American nano-satellites to be piggybacked ...</td>\n",
       "      <td>9:28:00</td>\n",
       "      <td>IST</td>\n",
       "      <td>2019-11-27</td>\n",
       "      <td>NaN</td>\n",
       "      <td>NaN</td>\n",
       "      <td>PSLV</td>\n",
       "    </tr>\n",
       "    <tr>\n",
       "      <th>119</th>\n",
       "      <td>120</td>\n",
       "      <td>RISAT-2BR1</td>\n",
       "      <td>Radar imaging</td>\n",
       "      <td>2019-089F</td>\n",
       "      <td>44857</td>\n",
       "      <td>628.0</td>\n",
       "      <td>NaN</td>\n",
       "      <td>NaN</td>\n",
       "      <td>2019-12-11</td>\n",
       "      <td>PSLV-QL C48</td>\n",
       "      <td>...</td>\n",
       "      <td>NaN</td>\n",
       "      <td>NaN</td>\n",
       "      <td>NaT</td>\n",
       "      <td>Has an improved resolution of 0.35 meters.</td>\n",
       "      <td>09:55</td>\n",
       "      <td>UTC</td>\n",
       "      <td>2019-12-11</td>\n",
       "      <td>NaN</td>\n",
       "      <td>NaN</td>\n",
       "      <td>PSLV</td>\n",
       "    </tr>\n",
       "    <tr>\n",
       "      <th>120</th>\n",
       "      <td>121</td>\n",
       "      <td>GSAT-30</td>\n",
       "      <td>Communications</td>\n",
       "      <td>2020-005A</td>\n",
       "      <td>45026</td>\n",
       "      <td>3357.0</td>\n",
       "      <td>NaN</td>\n",
       "      <td>6000.0</td>\n",
       "      <td>2020-01-16</td>\n",
       "      <td>Ariane 5 ECA VA-251</td>\n",
       "      <td>...</td>\n",
       "      <td>NaN</td>\n",
       "      <td>NaN</td>\n",
       "      <td>NaT</td>\n",
       "      <td>Replacement of INSAT-4A</td>\n",
       "      <td>21:05</td>\n",
       "      <td>UTC</td>\n",
       "      <td>2020-01-16</td>\n",
       "      <td>NaN</td>\n",
       "      <td>NaN</td>\n",
       "      <td>Ariane</td>\n",
       "    </tr>\n",
       "    <tr>\n",
       "      <th>121</th>\n",
       "      <td>TBD</td>\n",
       "      <td>GISAT-1</td>\n",
       "      <td>Earth observation</td>\n",
       "      <td>TBD</td>\n",
       "      <td>TBD</td>\n",
       "      <td>2268.0</td>\n",
       "      <td>NaN</td>\n",
       "      <td>2280.0</td>\n",
       "      <td>NaT</td>\n",
       "      <td>GSLV Mk II F10</td>\n",
       "      <td>...</td>\n",
       "      <td>NaN</td>\n",
       "      <td>NaN</td>\n",
       "      <td>NaT</td>\n",
       "      <td>India's first geostationary earth imaging sate...</td>\n",
       "      <td>NaN</td>\n",
       "      <td>NaN</td>\n",
       "      <td>NaT</td>\n",
       "      <td>NaN</td>\n",
       "      <td>NaN</td>\n",
       "      <td>GSLV</td>\n",
       "    </tr>\n",
       "  </tbody>\n",
       "</table>\n",
       "<p>5 rows × 27 columns</p>\n",
       "</div>"
      ],
      "text/plain": [
       "       #                      Name         Discipline  COSPAR ID SatCat #  \\\n",
       "117  118  Orbiter of Chandrayaan-2  Lunar exploration  2019-042A    44441   \n",
       "118  119                Cartosat-3  Earth observation  2019-081A    44804   \n",
       "119  120                RISAT-2BR1      Radar imaging  2019-089F    44857   \n",
       "120  121                   GSAT-30     Communications  2020-005A    45026   \n",
       "121  TBD                   GISAT-1  Earth observation        TBD      TBD   \n",
       "\n",
       "     Launch Mass in kg  Dry Mass in kg  On-board Power in W Launch Date  \\\n",
       "117             2379.0           682.0                  1.0  2019-07-22   \n",
       "118             1625.0             NaN               2000.0  2019-11-27   \n",
       "119              628.0             NaN                  NaN  2019-12-11   \n",
       "120             3357.0             NaN               6000.0  2020-01-16   \n",
       "121             2268.0             NaN               2280.0         NaT   \n",
       "\n",
       "          Launch Vehicle  ... Eccentricity  \\\n",
       "117      GSLV Mk III M01  ...          NaN   \n",
       "118          PSLV-XL C47  ...          NaN   \n",
       "119          PSLV-QL C48  ...          NaN   \n",
       "120  Ariane 5 ECA VA-251  ...          NaN   \n",
       "121       GSLV Mk II F10  ...          NaN   \n",
       "\n",
       "                               Epoch Start  Decay Date  \\\n",
       "117  20 August 2019, 09:02 IST (03:32 UTC)         NaT   \n",
       "118                                    NaN         NaT   \n",
       "119                                    NaN         NaT   \n",
       "120                                    NaN         NaT   \n",
       "121                                    NaN         NaT   \n",
       "\n",
       "                                                  Note  Launch Time  \\\n",
       "117  India's second lunar exploration mission. Orbi...     14:43:12   \n",
       "118  13 American nano-satellites to be piggybacked ...      9:28:00   \n",
       "119         Has an improved resolution of 0.35 meters.        09:55   \n",
       "120                            Replacement of INSAT-4A        21:05   \n",
       "121  India's first geostationary earth imaging sate...          NaN   \n",
       "\n",
       "     Launch Timezone Epoch Start Date Epoch Start Time Epoch Start Timezone  \\\n",
       "117              IST       2019-07-22            09:02                  IST   \n",
       "118              IST       2019-11-27              NaN                  NaN   \n",
       "119              UTC       2019-12-11              NaN                  NaN   \n",
       "120              UTC       2020-01-16              NaN                  NaN   \n",
       "121              NaN              NaT              NaN                  NaN   \n",
       "\n",
       "    Launch Vehicle Type  \n",
       "117                GSLV  \n",
       "118                PSLV  \n",
       "119                PSLV  \n",
       "120              Ariane  \n",
       "121                GSLV  \n",
       "\n",
       "[5 rows x 27 columns]"
      ]
     },
     "execution_count": 61,
     "metadata": {},
     "output_type": "execute_result"
    }
   ],
   "source": [
    "full_table.tail()"
   ]
  },
  {
   "cell_type": "code",
   "execution_count": 62,
   "metadata": {},
   "outputs": [],
   "source": [
    "full_table.to_csv('clean.csv', index=False)"
   ]
  },
  {
   "cell_type": "code",
   "execution_count": null,
   "metadata": {},
   "outputs": [],
   "source": []
  }
 ],
 "metadata": {
  "kernelspec": {
   "display_name": "Python 3",
   "language": "python",
   "name": "python3"
  },
  "language_info": {
   "codemirror_mode": {
    "name": "ipython",
    "version": 3
   },
   "file_extension": ".py",
   "mimetype": "text/x-python",
   "name": "python",
   "nbconvert_exporter": "python",
   "pygments_lexer": "ipython3",
   "version": "3.7.6"
  }
 },
 "nbformat": 4,
 "nbformat_minor": 4
}
